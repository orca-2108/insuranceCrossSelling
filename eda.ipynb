{
 "cells": [
  {
   "cell_type": "code",
   "execution_count": 1,
   "metadata": {},
   "outputs": [],
   "source": [
    "import polars as pl"
   ]
  },
  {
   "cell_type": "code",
   "execution_count": 48,
   "metadata": {},
   "outputs": [],
   "source": [
    "#load data\n",
    "df_train = pl.read_csv('./data/train.csv')\n",
    "df_test = pl.read_csv('./data/test.csv')"
   ]
  },
  {
   "cell_type": "code",
   "execution_count": 49,
   "metadata": {},
   "outputs": [
    {
     "data": {
      "text/html": [
       "<div><style>\n",
       ".dataframe > thead > tr,\n",
       ".dataframe > tbody > tr {\n",
       "  text-align: right;\n",
       "  white-space: pre-wrap;\n",
       "}\n",
       "</style>\n",
       "<small>shape: (9, 13)</small><table border=\"1\" class=\"dataframe\"><thead><tr><th>statistic</th><th>id</th><th>Gender</th><th>Age</th><th>Driving_License</th><th>Region_Code</th><th>Previously_Insured</th><th>Vehicle_Age</th><th>Vehicle_Damage</th><th>Annual_Premium</th><th>Policy_Sales_Channel</th><th>Vintage</th><th>Response</th></tr><tr><td>str</td><td>f64</td><td>str</td><td>f64</td><td>f64</td><td>f64</td><td>f64</td><td>str</td><td>str</td><td>f64</td><td>f64</td><td>f64</td><td>f64</td></tr></thead><tbody><tr><td>&quot;count&quot;</td><td>1.1504798e7</td><td>&quot;11504798&quot;</td><td>1.1504798e7</td><td>1.1504798e7</td><td>1.1504798e7</td><td>1.1504798e7</td><td>&quot;11504798&quot;</td><td>&quot;11504798&quot;</td><td>1.1504798e7</td><td>1.1504798e7</td><td>1.1504798e7</td><td>1.1504798e7</td></tr><tr><td>&quot;null_count&quot;</td><td>0.0</td><td>&quot;0&quot;</td><td>0.0</td><td>0.0</td><td>0.0</td><td>0.0</td><td>&quot;0&quot;</td><td>&quot;0&quot;</td><td>0.0</td><td>0.0</td><td>0.0</td><td>0.0</td></tr><tr><td>&quot;mean&quot;</td><td>5752398.5</td><td>null</td><td>38.383563</td><td>0.998022</td><td>26.41869</td><td>0.462997</td><td>null</td><td>null</td><td>30461.370411</td><td>112.425442</td><td>163.897744</td><td>0.122997</td></tr><tr><td>&quot;std&quot;</td><td>3.3211e6</td><td>null</td><td>14.993459</td><td>0.044431</td><td>12.99159</td><td>0.498629</td><td>null</td><td>null</td><td>16454.745205</td><td>54.035708</td><td>79.979531</td><td>0.328434</td></tr><tr><td>&quot;min&quot;</td><td>0.0</td><td>&quot;Female&quot;</td><td>20.0</td><td>0.0</td><td>0.0</td><td>0.0</td><td>&quot;1-2 Year&quot;</td><td>&quot;No&quot;</td><td>2630.0</td><td>1.0</td><td>10.0</td><td>0.0</td></tr><tr><td>&quot;25%&quot;</td><td>2.876199e6</td><td>null</td><td>24.0</td><td>1.0</td><td>15.0</td><td>0.0</td><td>null</td><td>null</td><td>25277.0</td><td>29.0</td><td>99.0</td><td>0.0</td></tr><tr><td>&quot;50%&quot;</td><td>5.752399e6</td><td>null</td><td>36.0</td><td>1.0</td><td>28.0</td><td>0.0</td><td>null</td><td>null</td><td>31824.0</td><td>151.0</td><td>166.0</td><td>0.0</td></tr><tr><td>&quot;75%&quot;</td><td>8.628598e6</td><td>null</td><td>49.0</td><td>1.0</td><td>35.0</td><td>1.0</td><td>null</td><td>null</td><td>39451.0</td><td>152.0</td><td>232.0</td><td>0.0</td></tr><tr><td>&quot;max&quot;</td><td>1.1504797e7</td><td>&quot;Male&quot;</td><td>85.0</td><td>1.0</td><td>52.0</td><td>1.0</td><td>&quot;&gt; 2 Years&quot;</td><td>&quot;Yes&quot;</td><td>540165.0</td><td>163.0</td><td>299.0</td><td>1.0</td></tr></tbody></table></div>"
      ],
      "text/plain": [
       "shape: (9, 13)\n",
       "┌───────────┬───────────┬──────────┬───────────┬───┬───────────┬───────────┬───────────┬───────────┐\n",
       "│ statistic ┆ id        ┆ Gender   ┆ Age       ┆ … ┆ Annual_Pr ┆ Policy_Sa ┆ Vintage   ┆ Response  │\n",
       "│ ---       ┆ ---       ┆ ---      ┆ ---       ┆   ┆ emium     ┆ les_Chann ┆ ---       ┆ ---       │\n",
       "│ str       ┆ f64       ┆ str      ┆ f64       ┆   ┆ ---       ┆ el        ┆ f64       ┆ f64       │\n",
       "│           ┆           ┆          ┆           ┆   ┆ f64       ┆ ---       ┆           ┆           │\n",
       "│           ┆           ┆          ┆           ┆   ┆           ┆ f64       ┆           ┆           │\n",
       "╞═══════════╪═══════════╪══════════╪═══════════╪═══╪═══════════╪═══════════╪═══════════╪═══════════╡\n",
       "│ count     ┆ 1.1504798 ┆ 11504798 ┆ 1.1504798 ┆ … ┆ 1.1504798 ┆ 1.1504798 ┆ 1.1504798 ┆ 1.1504798 │\n",
       "│           ┆ e7        ┆          ┆ e7        ┆   ┆ e7        ┆ e7        ┆ e7        ┆ e7        │\n",
       "│ null_coun ┆ 0.0       ┆ 0        ┆ 0.0       ┆ … ┆ 0.0       ┆ 0.0       ┆ 0.0       ┆ 0.0       │\n",
       "│ t         ┆           ┆          ┆           ┆   ┆           ┆           ┆           ┆           │\n",
       "│ mean      ┆ 5752398.5 ┆ null     ┆ 38.383563 ┆ … ┆ 30461.370 ┆ 112.42544 ┆ 163.89774 ┆ 0.122997  │\n",
       "│           ┆           ┆          ┆           ┆   ┆ 411       ┆ 2         ┆ 4         ┆           │\n",
       "│ std       ┆ 3.3211e6  ┆ null     ┆ 14.993459 ┆ … ┆ 16454.745 ┆ 54.035708 ┆ 79.979531 ┆ 0.328434  │\n",
       "│           ┆           ┆          ┆           ┆   ┆ 205       ┆           ┆           ┆           │\n",
       "│ min       ┆ 0.0       ┆ Female   ┆ 20.0      ┆ … ┆ 2630.0    ┆ 1.0       ┆ 10.0      ┆ 0.0       │\n",
       "│ 25%       ┆ 2.876199e ┆ null     ┆ 24.0      ┆ … ┆ 25277.0   ┆ 29.0      ┆ 99.0      ┆ 0.0       │\n",
       "│           ┆ 6         ┆          ┆           ┆   ┆           ┆           ┆           ┆           │\n",
       "│ 50%       ┆ 5.752399e ┆ null     ┆ 36.0      ┆ … ┆ 31824.0   ┆ 151.0     ┆ 166.0     ┆ 0.0       │\n",
       "│           ┆ 6         ┆          ┆           ┆   ┆           ┆           ┆           ┆           │\n",
       "│ 75%       ┆ 8.628598e ┆ null     ┆ 49.0      ┆ … ┆ 39451.0   ┆ 152.0     ┆ 232.0     ┆ 0.0       │\n",
       "│           ┆ 6         ┆          ┆           ┆   ┆           ┆           ┆           ┆           │\n",
       "│ max       ┆ 1.1504797 ┆ Male     ┆ 85.0      ┆ … ┆ 540165.0  ┆ 163.0     ┆ 299.0     ┆ 1.0       │\n",
       "│           ┆ e7        ┆          ┆           ┆   ┆           ┆           ┆           ┆           │\n",
       "└───────────┴───────────┴──────────┴───────────┴───┴───────────┴───────────┴───────────┴───────────┘"
      ]
     },
     "execution_count": 49,
     "metadata": {},
     "output_type": "execute_result"
    }
   ],
   "source": [
    "df_train.describe()"
   ]
  },
  {
   "cell_type": "code",
   "execution_count": 50,
   "metadata": {},
   "outputs": [],
   "source": [
    "gender_mapper = {\n",
    "    'Male': 1,\n",
    "    'Female': 0\n",
    "}\n",
    "\n",
    "df_train = df_train.with_columns(\n",
    "    pl.col('Gender').replace(gender_mapper)\n",
    ")"
   ]
  },
  {
   "cell_type": "code",
   "execution_count": 46,
   "metadata": {},
   "outputs": [],
   "source": [
    "df_train.select(\n",
    "    pl.col('Gender').cast(pl.Int32)\n",
    ")"
   ]
  },
  {
   "cell_type": "code",
   "execution_count": null,
   "metadata": {},
   "outputs": [],
   "source": []
  }
 ],
 "metadata": {
  "kernelspec": {
   "display_name": "insurance",
   "language": "python",
   "name": "python3"
  },
  "language_info": {
   "codemirror_mode": {
    "name": "ipython",
    "version": 3
   },
   "file_extension": ".py",
   "mimetype": "text/x-python",
   "name": "python",
   "nbconvert_exporter": "python",
   "pygments_lexer": "ipython3",
   "version": "3.12.4"
  }
 },
 "nbformat": 4,
 "nbformat_minor": 2
}
